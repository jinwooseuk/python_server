{
 "cells": [
  {
   "cell_type": "code",
   "execution_count": null,
   "id": "4f2f3d76-123e-4bb5-9151-ca52ca53302e",
   "metadata": {},
   "outputs": [],
   "source": [
    "# Server\n",
    "# requests 라이브러리 활용해\n",
    "# get 방식으로 server에 요청하는 client 역할\n",
    "\n",
    "# Python에서 Server\n",
    "# Flask vs Django\n",
    "# Django, 보안 정책, 풀 패키지로 구성된 프레임워크\n",
    "# Flask : 마이크로 웹 프레임워크 (굉장히 간단, 기본 기능x)\n",
    "# Flask를 활용하여 나만의 Custom Web Server"
   ]
  },
  {
   "cell_type": "code",
   "execution_count": 2,
   "id": "327cb63b-dabd-44df-8596-dbe4faf6bce6",
   "metadata": {},
   "outputs": [
    {
     "name": "stdout",
     "output_type": "stream",
     "text": [
      "Collecting flask\n",
      "  Downloading flask-3.1.1-py3-none-any.whl.metadata (3.0 kB)\n",
      "Collecting blinker>=1.9.0 (from flask)\n",
      "  Downloading blinker-1.9.0-py3-none-any.whl.metadata (1.6 kB)\n",
      "Collecting click>=8.1.3 (from flask)\n",
      "  Downloading click-8.1.8-py3-none-any.whl.metadata (2.3 kB)\n",
      "Requirement already satisfied: importlib-metadata>=3.6.0 in c:\\programdata\\anaconda3\\envs\\myenv\\lib\\site-packages (from flask) (8.7.0)\n",
      "Collecting itsdangerous>=2.2.0 (from flask)\n",
      "  Downloading itsdangerous-2.2.0-py3-none-any.whl.metadata (1.9 kB)\n",
      "Requirement already satisfied: jinja2>=3.1.2 in c:\\programdata\\anaconda3\\envs\\myenv\\lib\\site-packages (from flask) (3.1.6)\n",
      "Requirement already satisfied: markupsafe>=2.1.1 in c:\\programdata\\anaconda3\\envs\\myenv\\lib\\site-packages (from flask) (3.0.2)\n",
      "Collecting werkzeug>=3.1.0 (from flask)\n",
      "  Downloading werkzeug-3.1.3-py3-none-any.whl.metadata (3.7 kB)\n",
      "Requirement already satisfied: colorama in c:\\programdata\\anaconda3\\envs\\myenv\\lib\\site-packages (from click>=8.1.3->flask) (0.4.6)\n",
      "Requirement already satisfied: zipp>=3.20 in c:\\programdata\\anaconda3\\envs\\myenv\\lib\\site-packages (from importlib-metadata>=3.6.0->flask) (3.23.0)\n",
      "Downloading flask-3.1.1-py3-none-any.whl (103 kB)\n",
      "Downloading blinker-1.9.0-py3-none-any.whl (8.5 kB)\n",
      "Downloading click-8.1.8-py3-none-any.whl (98 kB)\n",
      "Downloading itsdangerous-2.2.0-py3-none-any.whl (16 kB)\n",
      "Downloading werkzeug-3.1.3-py3-none-any.whl (224 kB)\n",
      "Installing collected packages: werkzeug, itsdangerous, click, blinker, flask\n",
      "\n",
      "   -------- ------------------------------- 1/5 [itsdangerous]\n",
      "   -------------------------------- ------- 4/5 [flask]\n",
      "   ---------------------------------------- 5/5 [flask]\n",
      "\n",
      "Successfully installed blinker-1.9.0 click-8.1.8 flask-3.1.1 itsdangerous-2.2.0 werkzeug-3.1.3\n"
     ]
    }
   ],
   "source": [
    "!pip install flask"
   ]
  },
  {
   "cell_type": "code",
   "execution_count": 5,
   "id": "216d70c8-1799-4df2-8f22-9ba2e4275ec7",
   "metadata": {},
   "outputs": [
    {
     "name": "stdout",
     "output_type": "stream",
     "text": [
      " * Serving Flask app '__main__'\n",
      " * Debug mode: off\n"
     ]
    },
    {
     "name": "stderr",
     "output_type": "stream",
     "text": [
      "WARNING: This is a development server. Do not use it in a production deployment. Use a production WSGI server instead.\n",
      " * Running on http://127.0.0.1:5000\n",
      "Press CTRL+C to quit\n",
      "127.0.0.1 - - [16/Jul/2025 11:21:06] \"GET / HTTP/1.1\" 200 -\n",
      "127.0.0.1 - - [16/Jul/2025 11:21:07] \"GET /favicon.ico HTTP/1.1\" 404 -\n"
     ]
    }
   ],
   "source": [
    "# flask server 구동 코드!!\n",
    "\n",
    "from flask import Flask\n",
    "app = Flask(__name__)\n",
    "\n",
    "@app.route(\"/\")\n",
    "def index():\n",
    "    return \"Hello World!\"\n",
    "    \n",
    "if __name__ == \"__main__\":\n",
    "    app.run()"
   ]
  }
 ],
 "metadata": {
  "kernelspec": {
   "display_name": "Python 3 (ipykernel)",
   "language": "python",
   "name": "python3"
  },
  "language_info": {
   "codemirror_mode": {
    "name": "ipython",
    "version": 3
   },
   "file_extension": ".py",
   "mimetype": "text/x-python",
   "name": "python",
   "nbconvert_exporter": "python",
   "pygments_lexer": "ipython3",
   "version": "3.9.23"
  }
 },
 "nbformat": 4,
 "nbformat_minor": 5
}
